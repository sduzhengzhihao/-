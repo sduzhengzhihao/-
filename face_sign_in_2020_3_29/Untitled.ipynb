{
 "cells": [
  {
   "cell_type": "code",
   "execution_count": 1,
   "metadata": {
    "ExecuteTime": {
     "end_time": "2019-04-03T14:12:52.270781Z",
     "start_time": "2019-04-03T14:12:49.423471Z"
    }
   },
   "outputs": [],
   "source": [
    "import face_recognition as fr\n",
    "import glob\n",
    "import os\n",
    "import cv2\n",
    "from PIL import Image\n",
    "import pickle"
   ]
  },
  {
   "cell_type": "code",
   "execution_count": 4,
   "metadata": {
    "ExecuteTime": {
     "end_time": "2019-04-03T14:14:33.262378Z",
     "start_time": "2019-04-03T14:14:33.247378Z"
    }
   },
   "outputs": [],
   "source": [
    "src = 'data/reg_pics1'\n",
    "pic_list = glob.glob(os.path.join(src, '*.jpg'))"
   ]
  },
  {
   "cell_type": "code",
   "execution_count": 7,
   "metadata": {
    "ExecuteTime": {
     "end_time": "2019-04-03T14:18:10.400436Z",
     "start_time": "2019-04-03T14:14:59.192013Z"
    },
    "scrolled": false
   },
   "outputs": [
    {
     "name": "stdout",
     "output_type": "stream",
     "text": [
      "0\n",
      "10\n",
      "20\n",
      "30\n",
      "40\n",
      "50\n",
      "60\n",
      "70\n",
      "80\n",
      "90\n",
      "100\n",
      "110\n",
      "120\n",
      "130\n",
      "140\n",
      "150\n",
      "160\n",
      "170\n",
      "180\n",
      "190\n",
      "200\n"
     ]
    }
   ],
   "source": [
    "emb_list = []\n",
    "for i, pic in enumerate(pic_list):\n",
    "    if i%10==0: print(i)\n",
    "    im = fr.load_image_file(pic)\n",
    "    emb = fr.face_encodings(im)\n",
    "    emb_list.append((pic.split('\\\\')[-1].split('.')[0], emb))"
   ]
  },
  {
   "cell_type": "code",
   "execution_count": 8,
   "metadata": {
    "ExecuteTime": {
     "end_time": "2019-04-03T14:18:20.556597Z",
     "start_time": "2019-04-03T14:18:20.531596Z"
    }
   },
   "outputs": [],
   "source": [
    "with open('emb_list.pkl', 'wb') as f:\n",
    "    pickle.dump(emb_list, f)\n",
    "    "
   ]
  },
  {
   "cell_type": "code",
   "execution_count": null,
   "metadata": {},
   "outputs": [],
   "source": []
  }
 ],
 "metadata": {
  "kernelspec": {
   "display_name": "Python 3",
   "language": "python",
   "name": "python3"
  },
  "language_info": {
   "codemirror_mode": {
    "name": "ipython",
    "version": 3
   },
   "file_extension": ".py",
   "mimetype": "text/x-python",
   "name": "python",
   "nbconvert_exporter": "python",
   "pygments_lexer": "ipython3",
   "version": "3.6.5"
  },
  "varInspector": {
   "cols": {
    "lenName": 16,
    "lenType": 16,
    "lenVar": 40
   },
   "kernels_config": {
    "python": {
     "delete_cmd_postfix": "",
     "delete_cmd_prefix": "del ",
     "library": "var_list.py",
     "varRefreshCmd": "print(var_dic_list())"
    },
    "r": {
     "delete_cmd_postfix": ") ",
     "delete_cmd_prefix": "rm(",
     "library": "var_list.r",
     "varRefreshCmd": "cat(var_dic_list()) "
    }
   },
   "types_to_exclude": [
    "module",
    "function",
    "builtin_function_or_method",
    "instance",
    "_Feature"
   ],
   "window_display": false
  }
 },
 "nbformat": 4,
 "nbformat_minor": 2
}
