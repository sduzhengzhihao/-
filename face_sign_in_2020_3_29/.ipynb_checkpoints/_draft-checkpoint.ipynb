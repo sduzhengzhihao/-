{
 "cells": [
  {
   "cell_type": "code",
   "execution_count": 159,
   "metadata": {
    "collapsed": true
   },
   "outputs": [],
   "source": [
    "import face_recognition\n",
    "from PIL import Image\n",
    "import cv2\n",
    "import numpy as np\n",
    "from collections import OrderedDict\n",
    "import glob\n",
    "import csv\n",
    "import pandas"
   ]
  },
  {
   "cell_type": "code",
   "execution_count": 25,
   "metadata": {
    "scrolled": false
   },
   "outputs": [],
   "source": [
    "im_bgr = cv2.imread('test_pics/pic3.jpg')\n",
    "im_rgb = cv2.cvtColor(im_bgr, cv2.COLOR_BGR2RGB)"
   ]
  },
  {
   "cell_type": "code",
   "execution_count": 39,
   "metadata": {},
   "outputs": [
    {
     "name": "stdout",
     "output_type": "stream",
     "text": [
      "Help on function compare_faces in module face_recognition.api:\n",
      "\n",
      "compare_faces(known_face_encodings, face_encoding_to_check, tolerance=0.6)\n",
      "    Compare a list of face encodings against a candidate encoding to see if they match.\n",
      "    \n",
      "    :param known_face_encodings: A list of known face encodings\n",
      "    :param face_encoding_to_check: A single face encoding to compare against the list\n",
      "    :param tolerance: How much distance between faces to consider it a match. Lower is more strict. 0.6 is typical best performance.\n",
      "    :return: A list of True/False values indicating which known_face_encodings match the face encoding to check\n",
      "\n"
     ]
    }
   ],
   "source": [
    "help(face_recognition.compare_faces)"
   ]
  },
  {
   "cell_type": "code",
   "execution_count": 40,
   "metadata": {},
   "outputs": [],
   "source": [
    "face_locations = face_recognition.face_locations(im_rgb)\n",
    "top, right, bottom, left = face_locations[0]\n",
    "face_encodings = face_recognition.face_encodings(im_rgb, face_locations) # 获得Embedding\n",
    "# cv2.rectangle(im_rgb, (left, top), (right, bottom), (0, 0, 255), 2)"
   ]
  },
  {
   "cell_type": "code",
   "execution_count": 33,
   "metadata": {},
   "outputs": [
    {
     "data": {
      "text/plain": [
       "(128,)"
      ]
     },
     "execution_count": 33,
     "metadata": {},
     "output_type": "execute_result"
    }
   ],
   "source": [
    "face_encodings[0].shape"
   ]
  },
  {
   "cell_type": "code",
   "execution_count": 48,
   "metadata": {},
   "outputs": [],
   "source": [
    "biden = cv2.cvtColor(cv2.imread('data/biden.jpg'), cv2.COLOR_BGR2RGB)\n",
    "face_loc_biden = face_recognition.face_locations(biden)\n",
    "\n",
    "obama = cv2.cvtColor(cv2.imread('data/obama.jpg'), cv2.COLOR_BGR2RGB)\n",
    "face_loc_obama = face_recognition.face_locations(obama)\n",
    "\n",
    "obama2 = cv2.cvtColor(cv2.imread('data/obama2.jpg'), cv2.COLOR_BGR2RGB)\n",
    "face_loc_obama2 = face_recognition.face_locations(obama2)\n",
    "\n",
    "embedding_biden = face_recognition.face_encodings(biden, face_loc_biden)[0]\n",
    "embedding_obama = face_recognition.face_encodings(obama, face_loc_obama)[0]\n",
    "embedding_obama2 = face_recognition.face_encodings(obama, face_loc_obama2)[0]"
   ]
  },
  {
   "cell_type": "code",
   "execution_count": 94,
   "metadata": {},
   "outputs": [],
   "source": [
    "od1 = OrderedDict()\n",
    "od1['001'] = np.array([1,2,5])\n",
    "od1['002'] = np.array([6,3,7])\n",
    "od1['003'] = np.array([3,1,2])"
   ]
  },
  {
   "cell_type": "code",
   "execution_count": 100,
   "metadata": {},
   "outputs": [
    {
     "data": {
      "text/plain": [
       "[array([1, 2, 5]), array([6, 3, 7]), array([3, 1, 2])]"
      ]
     },
     "execution_count": 100,
     "metadata": {},
     "output_type": "execute_result"
    }
   ],
   "source": []
  },
  {
   "cell_type": "code",
   "execution_count": 102,
   "metadata": {},
   "outputs": [
    {
     "data": {
      "text/plain": [
       "array([[0, 1, 4],\n",
       "       [5, 2, 6],\n",
       "       [2, 0, 1]])"
      ]
     },
     "execution_count": 102,
     "metadata": {},
     "output_type": "execute_result"
    }
   ],
   "source": [
    "list(od1.values()) - np.array([1, 1, 1])"
   ]
  },
  {
   "cell_type": "code",
   "execution_count": null,
   "metadata": {
    "collapsed": true
   },
   "outputs": [],
   "source": []
  },
  {
   "cell_type": "code",
   "execution_count": 84,
   "metadata": {},
   "outputs": [
    {
     "data": {
      "text/plain": [
       "array([0, 1, 2])"
      ]
     },
     "execution_count": 84,
     "metadata": {},
     "output_type": "execute_result"
    }
   ],
   "source": [
    "[1,2,3]-np.array([1])"
   ]
  },
  {
   "cell_type": "code",
   "execution_count": 76,
   "metadata": {},
   "outputs": [
    {
     "data": {
      "text/plain": [
       "array([0.84017509, 0.697304  ])"
      ]
     },
     "execution_count": 76,
     "metadata": {},
     "output_type": "execute_result"
    }
   ],
   "source": [
    "np.linalg.norm([embedding_biden, embedding_obama2] - embedding_obama, axis=1)"
   ]
  },
  {
   "cell_type": "code",
   "execution_count": 62,
   "metadata": {},
   "outputs": [
    {
     "data": {
      "text/plain": [
       "0.7058941740965899"
      ]
     },
     "execution_count": 62,
     "metadata": {},
     "output_type": "execute_result"
    }
   ],
   "source": [
    "sum(np.square(embedding_biden-embedding_obama))"
   ]
  },
  {
   "cell_type": "code",
   "execution_count": 63,
   "metadata": {
    "scrolled": true
   },
   "outputs": [
    {
     "data": {
      "text/plain": [
       "0.48623286548927963"
      ]
     },
     "execution_count": 63,
     "metadata": {},
     "output_type": "execute_result"
    }
   ],
   "source": [
    "sum(np.square(embedding_obama-embedding_obama2))"
   ]
  },
  {
   "cell_type": "code",
   "execution_count": 140,
   "metadata": {
    "scrolled": true
   },
   "outputs": [
    {
     "name": "stdout",
     "output_type": "stream",
     "text": [
      "Loading biden\n",
      "Loading obama\n",
      "Loading wrs\n"
     ]
    }
   ],
   "source": [
    "import os\n",
    "import glob\n",
    "\n",
    "stored_faces_path = './data'\n",
    "pattern = os.path.join(stored_faces_path, '*.jpg') \n",
    "all_face_pics = glob.glob(pattern) # 数据库的所有图像, 相对路径,不是图像名称.jpg\n",
    "all_id_list = [x.split('\\\\')[-1].split('.')[0] for x in all_face_pics] # 所有学号str\n",
    "all_id_embedding = OrderedDict() # 所有的学号-Embedding\n",
    "for id_str, pic_path in zip(all_id_list, all_face_pics):\n",
    "    print('Loading {0}'.format(id_str))\n",
    "    im_bgr = cv2.imread(pic_path)\n",
    "    im_rgb = cv2.cvtColor(im_bgr, cv2.COLOR_BGR2RGB)\n",
    "    face_locations = face_recognition.face_locations(im_rgb)  # list[box,...]\n",
    "    face_encodings = face_recognition.face_encodings(im_rgb, face_locations)  #list\n",
    "    all_id_embedding[id_str] = face_encodings[0]"
   ]
  },
  {
   "cell_type": "code",
   "execution_count": 150,
   "metadata": {},
   "outputs": [
    {
     "data": {
      "text/plain": [
       "'biden'"
      ]
     },
     "execution_count": 150,
     "metadata": {},
     "output_type": "execute_result"
    }
   ],
   "source": [
    "list(all_id_embedding.keys())[0]"
   ]
  },
  {
   "cell_type": "code",
   "execution_count": 163,
   "metadata": {},
   "outputs": [],
   "source": [
    "import csv\n",
    "from collections import OrderedDict\n",
    "\n",
    "# 使用数字和字符串的数字都可以\n",
    "datas = [['name', 'age'],\n",
    "         ['Bob', False],\n",
    "         ['Tom', False],\n",
    "         ['Jerry', 'False']]\n",
    "\n",
    "od = OrderedDict()\n",
    "od['a']=1\n",
    "od['b']=2\n",
    "\n",
    "with open('example.csv', 'w', newline='') as f:\n",
    "    writer = csv.writer(f)\n",
    "    for row in datas:\n",
    "        writer.writerow(row)"
   ]
  },
  {
   "cell_type": "code",
   "execution_count": 87,
   "metadata": {},
   "outputs": [
    {
     "name": "stdout",
     "output_type": "stream",
     "text": [
      "<_io.TextIOWrapper name='data/sign_form.csv' mode='r' encoding='cp936'>\n"
     ]
    },
    {
     "data": {
      "text/plain": [
       "{('2018001', '奥巴马', 'NO'), ('2018002', '拜登', 'NO'), ('2018003', '王荣生', 'NO')}"
      ]
     },
     "execution_count": 87,
     "metadata": {},
     "output_type": "execute_result"
    }
   ],
   "source": [
    "import csv\n",
    "with open('data/sign_form.csv', 'r') as csvfile:\n",
    "    print(csvfile)\n",
    "    reader = csv.DictReader(csvfile, ['stu_id', 'stu_name', 'sign_status'])\n",
    "    sign_form = {tuple(x.values()) for x in list(reader)}\n",
    "sign_form"
   ]
  },
  {
   "cell_type": "code",
   "execution_count": 172,
   "metadata": {
    "scrolled": true
   },
   "outputs": [
    {
     "name": "stdout",
     "output_type": "stream",
     "text": [
      "[OrderedDict([('stu_id', '2018001'), ('stu_name', '奥巴马'), ('sign_status', 'YES')]), OrderedDict([('stu_id', '2018002'), ('stu_name', '拜登'), ('sign_status', 'NO')]), OrderedDict([('stu_id', '2018003'), ('stu_name', '王荣生'), ('sign_status', 'YES')])]\n",
      "\n",
      "[('2018001', '奥巴马', 'YES'), ('2018002', '拜登', 'NO'), ('2018003', '王荣生', 'YES')]\n"
     ]
    }
   ],
   "source": [
    "SIGN_FORM_FILE = 'data/sign_form.csv'  # 签到表\n",
    "\n",
    "sign_form_io = open(SIGN_FORM_FILE, 'r')  # 文件对象\n",
    "reader = csv.DictReader(sign_form_io, ['stu_id', 'stu_name', 'sign_status'])\n",
    "\n",
    "origin = list(reader)\n",
    "\n",
    "print(origin)\n",
    "print()\n",
    "wanted = [tuple(x.values()) for x in origin if ]\n",
    "print(wanted)\n",
    "\n",
    "\n",
    "sign_form_io.close()"
   ]
  },
  {
   "cell_type": "code",
   "execution_count": 175,
   "metadata": {},
   "outputs": [
    {
     "ename": "NameError",
     "evalue": "name 'os' is not defined",
     "output_type": "error",
     "traceback": [
      "\u001b[1;31m---------------------------------------------------------------------------\u001b[0m",
      "\u001b[1;31mNameError\u001b[0m                                 Traceback (most recent call last)",
      "\u001b[1;32m<ipython-input-175-558b589a8e04>\u001b[0m in \u001b[0;36m<module>\u001b[1;34m()\u001b[0m\n\u001b[1;32m----> 1\u001b[1;33m \u001b[0mos\u001b[0m\u001b[1;33m.\u001b[0m\u001b[0mstartfile\u001b[0m\u001b[1;33m(\u001b[0m\u001b[1;33m)\u001b[0m\u001b[1;33m\u001b[0m\u001b[0m\n\u001b[0m",
      "\u001b[1;31mNameError\u001b[0m: name 'os' is not defined"
     ]
    }
   ],
   "source": [
    "import os\n",
    "os.startfile()"
   ]
  }
 ],
 "metadata": {
  "kernelspec": {
   "display_name": "Python 3",
   "language": "python",
   "name": "python3"
  },
  "language_info": {
   "codemirror_mode": {
    "name": "ipython",
    "version": 3
   },
   "file_extension": ".py",
   "mimetype": "text/x-python",
   "name": "python",
   "nbconvert_exporter": "python",
   "pygments_lexer": "ipython3",
   "version": "3.6.3"
  }
 },
 "nbformat": 4,
 "nbformat_minor": 2
}
